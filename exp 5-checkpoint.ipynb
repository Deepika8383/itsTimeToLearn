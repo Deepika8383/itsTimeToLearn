{
 "cells": [
  {
   "cell_type": "markdown",
   "id": "a8393588",
   "metadata": {},
   "source": [
    "- Create list, change one element, display length of list"
   ]
  },
  {
   "cell_type": "code",
   "execution_count": 1,
   "id": "2993c5fc",
   "metadata": {},
   "outputs": [
    {
     "name": "stdout",
     "output_type": "stream",
     "text": [
      "[8, 5, 10, 3, 6]\n"
     ]
    },
    {
     "data": {
      "text/plain": [
       "5"
      ]
     },
     "execution_count": 1,
     "metadata": {},
     "output_type": "execute_result"
    }
   ],
   "source": [
    "list=[8,5,9,3,6]\n",
    "list[2]=10\n",
    "print(list)\n",
    "len(list)"
   ]
  },
  {
   "cell_type": "markdown",
   "id": "dc610365",
   "metadata": {},
   "source": [
    "- Create a list, append two elements in it."
   ]
  },
  {
   "cell_type": "code",
   "execution_count": 7,
   "id": "bc12debd",
   "metadata": {},
   "outputs": [
    {
     "name": "stdout",
     "output_type": "stream",
     "text": [
      "[8, 5, 9, 3, 6, 28, 63]\n"
     ]
    }
   ],
   "source": [
    "list=[8,5,9,3,6]\n",
    "list+=[28,63]# append more than 2 or more elemts simultaneosly\n",
    "print(list)"
   ]
  },
  {
   "cell_type": "markdown",
   "id": "7e532afa",
   "metadata": {},
   "source": [
    "- Create a list and sort it."
   ]
  },
  {
   "cell_type": "code",
   "execution_count": 8,
   "id": "d68f100f",
   "metadata": {},
   "outputs": [
    {
     "name": "stdout",
     "output_type": "stream",
     "text": [
      "[3, 5, 6, 8, 9]\n"
     ]
    }
   ],
   "source": [
    "list=[8,5,9,3,6]\n",
    "list.sort()\n",
    "print(list)"
   ]
  },
  {
   "cell_type": "markdown",
   "id": "db5beaf0",
   "metadata": {},
   "source": [
    "- Create a list of numbers and print the sum of all elements."
   ]
  },
  {
   "cell_type": "code",
   "execution_count": 14,
   "id": "18a607ee",
   "metadata": {},
   "outputs": [
    {
     "name": "stdout",
     "output_type": "stream",
     "text": [
      "31\n"
     ]
    }
   ],
   "source": [
    "list=[8,5,9,3,6]\n",
    "sum=0\n",
    "for i in range(len(list)):\n",
    "    sum= sum + list[i]\n",
    "print(sum)"
   ]
  },
  {
   "cell_type": "markdown",
   "id": "b7cde829",
   "metadata": {},
   "source": [
    "- Compare the elements of two lists"
   ]
  },
  {
   "cell_type": "code",
   "execution_count": 16,
   "id": "b78fe0f3",
   "metadata": {},
   "outputs": [
    {
     "name": "stdout",
     "output_type": "stream",
     "text": [
      "list are not same\n"
     ]
    }
   ],
   "source": [
    "list1=[8,6,2,8,6]\n",
    "list2=[5,4,8,9,1]\n",
    "list1.sort()\n",
    "list2.sort()\n",
    "if list1==list2:\n",
    "    print(\"list are same\")\n",
    "else:\n",
    "    print(\"list are not same\")\n"
   ]
  },
  {
   "cell_type": "code",
   "execution_count": 17,
   "id": "cc5b2c32",
   "metadata": {},
   "outputs": [
    {
     "name": "stdout",
     "output_type": "stream",
     "text": [
      "The lists l1 and l2 are not the same\n",
      "The lists l1 and l3 are the same\n"
     ]
    }
   ],
   "source": [
    "import functools\n",
    "\n",
    "l1 = [10, 20, 30, 40, 50]\n",
    "l2 = [20, 30, 50, 40, 70]\n",
    "l3 = [10, 20, 30, 40, 50]\n",
    "\n",
    "if functools.reduce(lambda x, y : x and y, map(lambda p, q: p == q,l1,l2), True):\n",
    "    print (\"The lists l1 and l2 are the same\")\n",
    "else:\n",
    "    print (\"The lists l1 and l2 are not the same\")\n",
    "\n",
    "if functools.reduce(lambda x, y : x and y, map(lambda p, q: p == q,l1,l3), True):\n",
    "    print (\"The lists l1 and l3 are the same\")\n",
    "else:\n",
    "    print (\"The lists l1 and l3 are not the same\")"
   ]
  },
  {
   "cell_type": "markdown",
   "id": "077c2b31",
   "metadata": {},
   "source": [
    "- Find the maximum and minimum from elements of list"
   ]
  },
  {
   "cell_type": "code",
   "execution_count": 26,
   "id": "0a029d04",
   "metadata": {},
   "outputs": [
    {
     "name": "stdout",
     "output_type": "stream",
     "text": [
      "74\n",
      "2\n"
     ]
    }
   ],
   "source": [
    "list =[12,7,24,63,74,2,34]\n",
    "max=list[0]\n",
    "for i in range(len(list)):\n",
    "    if max<list[i]:\n",
    "        max=list[i]\n",
    "print(max)\n",
    "min=list[0]\n",
    "for i in range(len(list)):\n",
    "    if min>list[i]:\n",
    "        min=list[i]\n",
    "print(min)"
   ]
  },
  {
   "cell_type": "code",
   "execution_count": 25,
   "id": "7601e6e5",
   "metadata": {},
   "outputs": [
    {
     "data": {
      "text/plain": [
       "2"
      ]
     },
     "execution_count": 25,
     "metadata": {},
     "output_type": "execute_result"
    }
   ],
   "source": [
    "list =[12,7,24,63,74,2,34]\n",
    "min([12,7,24,63,74,2,34])"
   ]
  },
  {
   "cell_type": "markdown",
   "id": "0b59fb09",
   "metadata": {},
   "source": [
    "- Count occurrence of an element in the list."
   ]
  },
  {
   "cell_type": "code",
   "execution_count": 27,
   "id": "16e73379",
   "metadata": {},
   "outputs": [
    {
     "name": "stdout",
     "output_type": "stream",
     "text": [
      "4\n"
     ]
    }
   ],
   "source": [
    "list=[9,8,5,8,9,6,5,9,2,3,9]\n",
    "x=9\n",
    "count=0\n",
    "for i in range(len(list)):\n",
    "    if x==list[i]:\n",
    "        count+=1\n",
    "print(count)"
   ]
  },
  {
   "cell_type": "markdown",
   "id": "7df58e68",
   "metadata": {},
   "source": [
    "- Reverse a List"
   ]
  },
  {
   "cell_type": "code",
   "execution_count": 28,
   "id": "2a264633",
   "metadata": {},
   "outputs": [
    {
     "name": "stdout",
     "output_type": "stream",
     "text": [
      "[34, 2, 74, 63, 24, 7, 12]\n"
     ]
    }
   ],
   "source": [
    "list =[12,7,24,63,74,2,34]\n",
    "list.reverse()\n",
    "print(list)"
   ]
  },
  {
   "cell_type": "markdown",
   "id": "8a45fdde",
   "metadata": {},
   "source": [
    "- Write a loop that traverses the previous list and prints the length of\n",
    "each element."
   ]
  },
  {
   "cell_type": "code",
   "execution_count": 30,
   "id": "3f3b4d9b",
   "metadata": {},
   "outputs": [
    {
     "name": "stdout",
     "output_type": "stream",
     "text": [
      "12 0\n",
      "\n",
      "7 1\n",
      "\n",
      "24 2\n",
      "\n",
      "63 3\n",
      "\n",
      "74 4\n",
      "\n",
      "2 5\n",
      "\n",
      "34 6\n",
      "\n"
     ]
    }
   ],
   "source": [
    "list =[12,7,24,63,74,2,34]\n",
    "for i in range(len(list)):\n",
    "    a = list[i]\n",
    "    print(a,i)\n",
    "    print()"
   ]
  },
  {
   "cell_type": "code",
   "execution_count": 41,
   "id": "7fa4b7e8",
   "metadata": {},
   "outputs": [
    {
     "ename": "IndexError",
     "evalue": "list index out of range",
     "output_type": "error",
     "traceback": [
      "\u001b[1;31m---------------------------------------------------------------------------\u001b[0m",
      "\u001b[1;31mIndexError\u001b[0m                                Traceback (most recent call last)",
      "\u001b[1;32m~\\AppData\\Local\\Temp\\ipykernel_9792\\3024818643.py\u001b[0m in \u001b[0;36m<module>\u001b[1;34m\u001b[0m\n\u001b[0;32m      5\u001b[0m \u001b[0mc\u001b[0m\u001b[1;33m=\u001b[0m\u001b[1;36m0\u001b[0m\u001b[1;33m\u001b[0m\u001b[1;33m\u001b[0m\u001b[0m\n\u001b[0;32m      6\u001b[0m \u001b[1;32mwhile\u001b[0m \u001b[0ma\u001b[0m\u001b[1;33m<=\u001b[0m\u001b[1;36m12\u001b[0m\u001b[1;33m:\u001b[0m\u001b[1;33m\u001b[0m\u001b[1;33m\u001b[0m\u001b[0m\n\u001b[1;32m----> 7\u001b[1;33m     \u001b[1;32mif\u001b[0m \u001b[0mlist\u001b[0m\u001b[1;33m[\u001b[0m\u001b[0ma\u001b[0m\u001b[1;33m]\u001b[0m\u001b[1;33m==\u001b[0m\u001b[0mlist\u001b[0m\u001b[1;33m[\u001b[0m\u001b[0mb\u001b[0m\u001b[1;33m]\u001b[0m\u001b[1;33m:\u001b[0m\u001b[1;33m\u001b[0m\u001b[1;33m\u001b[0m\u001b[0m\n\u001b[0m\u001b[0;32m      8\u001b[0m         \u001b[0mb\u001b[0m\u001b[1;33m+=\u001b[0m\u001b[1;36m1\u001b[0m\u001b[1;33m\u001b[0m\u001b[1;33m\u001b[0m\u001b[0m\n\u001b[0;32m      9\u001b[0m     \u001b[1;32melse\u001b[0m\u001b[1;33m:\u001b[0m\u001b[1;33m\u001b[0m\u001b[1;33m\u001b[0m\u001b[0m\n",
      "\u001b[1;31mIndexError\u001b[0m: list index out of range"
     ]
    }
   ],
   "source": [
    "list=[1,1,1,1,1,2,2,2,3,4,4,4,5]\n",
    "list2=[14]\n",
    "a=0\n",
    "b=1\n",
    "c=0\n",
    "while a<=12:\n",
    "    if list[a]==list[b]:\n",
    "        b+=1\n",
    "    else:\n",
    "        list2[c]=list[a]\n",
    "        a=b\n",
    "print(list2)"
   ]
  },
  {
   "cell_type": "code",
   "execution_count": 42,
   "id": "1174fa80",
   "metadata": {},
   "outputs": [
    {
     "ename": "IndexError",
     "evalue": "list index out of range",
     "output_type": "error",
     "traceback": [
      "\u001b[1;31m---------------------------------------------------------------------------\u001b[0m",
      "\u001b[1;31mIndexError\u001b[0m                                Traceback (most recent call last)",
      "\u001b[1;32m~\\AppData\\Local\\Temp\\ipykernel_9792\\3024818643.py\u001b[0m in \u001b[0;36m<module>\u001b[1;34m\u001b[0m\n\u001b[0;32m      5\u001b[0m \u001b[0mc\u001b[0m\u001b[1;33m=\u001b[0m\u001b[1;36m0\u001b[0m\u001b[1;33m\u001b[0m\u001b[1;33m\u001b[0m\u001b[0m\n\u001b[0;32m      6\u001b[0m \u001b[1;32mwhile\u001b[0m \u001b[0ma\u001b[0m\u001b[1;33m<=\u001b[0m\u001b[1;36m12\u001b[0m\u001b[1;33m:\u001b[0m\u001b[1;33m\u001b[0m\u001b[1;33m\u001b[0m\u001b[0m\n\u001b[1;32m----> 7\u001b[1;33m     \u001b[1;32mif\u001b[0m \u001b[0mlist\u001b[0m\u001b[1;33m[\u001b[0m\u001b[0ma\u001b[0m\u001b[1;33m]\u001b[0m\u001b[1;33m==\u001b[0m\u001b[0mlist\u001b[0m\u001b[1;33m[\u001b[0m\u001b[0mb\u001b[0m\u001b[1;33m]\u001b[0m\u001b[1;33m:\u001b[0m\u001b[1;33m\u001b[0m\u001b[1;33m\u001b[0m\u001b[0m\n\u001b[0m\u001b[0;32m      8\u001b[0m         \u001b[0mb\u001b[0m\u001b[1;33m+=\u001b[0m\u001b[1;36m1\u001b[0m\u001b[1;33m\u001b[0m\u001b[1;33m\u001b[0m\u001b[0m\n\u001b[0;32m      9\u001b[0m     \u001b[1;32melse\u001b[0m\u001b[1;33m:\u001b[0m\u001b[1;33m\u001b[0m\u001b[1;33m\u001b[0m\u001b[0m\n",
      "\u001b[1;31mIndexError\u001b[0m: list index out of range"
     ]
    }
   ],
   "source": [
    "list=[1,1,1,1,1,2,2,2,3,4,4,4,5]\n",
    "list2=[14]\n",
    "a=0\n",
    "b=1\n",
    "c=0\n",
    "while a<=12:\n",
    "    if list[a]==list[b]:\n",
    "        b+=1\n",
    "    else:\n",
    "        list2[c]=list[a]\n",
    "        a=b\n",
    "print(list2)"
   ]
  },
  {
   "cell_type": "markdown",
   "id": "0cc88707",
   "metadata": {},
   "source": [
    "- Write a User defined function to find the index of the smallest\n",
    "element in a list of integers."
   ]
  },
  {
   "cell_type": "code",
   "execution_count": 43,
   "id": "f5e2c581",
   "metadata": {},
   "outputs": [
    {
     "name": "stdout",
     "output_type": "stream",
     "text": [
      "2\n",
      "5\n"
     ]
    }
   ],
   "source": [
    "list =[12,7,24,63,74,2,34]\n",
    "min=list[0]\n",
    "for i in range(len(list)):\n",
    "    if min>list[i]:\n",
    "        min=list[i]\n",
    "print(min)\n",
    "for i in range(len(list)):\n",
    "    if list[i]==min:\n",
    "        print(i)\n",
    "        break"
   ]
  },
  {
   "cell_type": "code",
   "execution_count": 44,
   "id": "9c4b4d84",
   "metadata": {},
   "outputs": [
    {
     "data": {
      "text/plain": [
       "2"
      ]
     },
     "execution_count": 44,
     "metadata": {},
     "output_type": "execute_result"
    }
   ],
   "source": [
    "list =[12,12,7,24,63,74,2,34]\n",
    "list.count(12)"
   ]
  },
  {
   "cell_type": "code",
   "execution_count": 46,
   "id": "5a7fb6b4",
   "metadata": {},
   "outputs": [
    {
     "name": "stdout",
     "output_type": "stream",
     "text": [
      "[2, 2, 5, 5, 8, 8, 8, 10]\n"
     ]
    }
   ],
   "source": [
    "list=[2,5,2,5,8,8,10,8]\n",
    "list.sort()\n",
    "print(list)"
   ]
  },
  {
   "cell_type": "code",
   "execution_count": null,
   "id": "8d1bb042",
   "metadata": {},
   "outputs": [],
   "source": []
  }
 ],
 "metadata": {
  "kernelspec": {
   "display_name": "Python 3 (ipykernel)",
   "language": "python",
   "name": "python3"
  },
  "language_info": {
   "codemirror_mode": {
    "name": "ipython",
    "version": 3
   },
   "file_extension": ".py",
   "mimetype": "text/x-python",
   "name": "python",
   "nbconvert_exporter": "python",
   "pygments_lexer": "ipython3",
   "version": "3.9.13"
  }
 },
 "nbformat": 4,
 "nbformat_minor": 5
}
