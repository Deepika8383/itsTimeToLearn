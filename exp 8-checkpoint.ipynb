{
 "cells": [
  {
   "cell_type": "markdown",
   "id": "19339655",
   "metadata": {},
   "source": [
    "- Write the python program the print the given series : 7,10,8,11,9,12.....\n",
    "print the given series from 7 to 50"
   ]
  },
  {
   "cell_type": "code",
   "execution_count": 24,
   "id": "1788925f",
   "metadata": {},
   "outputs": [
    {
     "name": "stdout",
     "output_type": "stream",
     "text": [
      "10 8 11 9 12 10 13 11 14 12 15 13 16 14 17 15 18 16 19 17 20 18 21 19 22 20 23 21 24 22 25 23 26 24 27 25 28 26 29 27 30 28 31 29 32 30 33 31 34 32 35 33 36 34 37 35 38 36 39 37 40 38 41 39 42 40 43 41 44 42 45 43 46 44 47 45 48 46 49 47 50 48 51 49 52 50 "
     ]
    }
   ],
   "source": [
    "a=7\n",
    "while a<=50:\n",
    "    if a>=50:\n",
    "        break\n",
    "    a=a+3\n",
    "    print(a,end= \" \")\n",
    "    a=a-2\n",
    "    print(a,end=\" \")\n"
   ]
  },
  {
   "cell_type": "markdown",
   "id": "0a1e995c",
   "metadata": {},
   "source": [
    "- Write the python program the print the given series : 22,21,23,22,24,23......\n",
    "print the given series from 20 to 80"
   ]
  },
  {
   "cell_type": "code",
   "execution_count": 27,
   "id": "4b09964d",
   "metadata": {},
   "outputs": [
    {
     "name": "stdout",
     "output_type": "stream",
     "text": [
      "20 22 21 23 22 24 23 25 24 26 25 27 26 28 27 29 28 30 29 31 30 32 31 33 32 34 33 35 34 36 35 37 36 38 37 39 38 40 39 41 40 42 41 43 42 44 43 45 44 46 45 47 46 48 47 49 48 50 49 51 50 52 51 53 52 54 53 55 54 56 55 57 56 58 57 59 58 60 59 61 60 62 61 63 62 64 63 65 64 66 65 67 66 68 67 69 68 70 69 71 70 72 71 73 72 74 73 75 74 76 75 77 76 78 77 79 78 80 79 81 80 "
     ]
    }
   ],
   "source": [
    "a=20\n",
    "print(a, end=\" \")\n",
    "while a<=80:\n",
    "    if a>=80:\n",
    "        break\n",
    "    a=a+2\n",
    "    print(a,end=\" \")\n",
    "    a=a-1\n",
    "    print(a,end= \" \")\n",
    "    "
   ]
  },
  {
   "cell_type": "markdown",
   "id": "24a1feef",
   "metadata": {},
   "source": [
    "- Write the python program the print the given series : 53,53,40,40,27,27......\n",
    "print the given series from 53 to 10"
   ]
  },
  {
   "cell_type": "code",
   "execution_count": 6,
   "id": "22ab9af5",
   "metadata": {},
   "outputs": [
    {
     "name": "stdout",
     "output_type": "stream",
     "text": [
      "53 53 40 40 27 27 14 14 1 1 "
     ]
    }
   ],
   "source": [
    "a=53\n",
    "print(a,a, end=\" \")\n",
    "while a>=10:\n",
    "    if a<=10:\n",
    "        break\n",
    "    a = a-13\n",
    "    print(a,a, end=\" \")"
   ]
  },
  {
   "cell_type": "markdown",
   "id": "30c01ef5",
   "metadata": {},
   "source": [
    "- Write the python program the print the given series : 14,28,20,40,32,64......\n",
    "print the given series from 14 to 100"
   ]
  },
  {
   "cell_type": "code",
   "execution_count": 15,
   "id": "235041f1",
   "metadata": {},
   "outputs": [
    {
     "name": "stdout",
     "output_type": "stream",
     "text": [
      "14 28 20 40 32 64 56 "
     ]
    }
   ],
   "source": [
    "a=14\n",
    "print(a, end=\" \")\n",
    "while a<=100:\n",
    "    if a>=55:\n",
    "        break\n",
    "    a=a*2\n",
    "    print(a, end=\" \")\n",
    "    if a>=100:\n",
    "        break\n",
    "    a=a-8\n",
    "    print(a, end=\" \")"
   ]
  },
  {
   "cell_type": "markdown",
   "id": "135efa85",
   "metadata": {},
   "source": [
    "- Write the python program the print the given series : 2,6,12,20,30,42.....\n",
    "print the given series from 2 to 100"
   ]
  },
  {
   "cell_type": "code",
   "execution_count": 21,
   "id": "0c756e3d",
   "metadata": {},
   "outputs": [
    {
     "name": "stdout",
     "output_type": "stream",
     "text": [
      "2 6 12 20 30 42 56 72 90 "
     ]
    }
   ],
   "source": [
    "a= 2\n",
    "b=4\n",
    "print(a,end=\" \")\n",
    "while a<=100:\n",
    "    a=a+b\n",
    "    if a>=100:\n",
    "        break\n",
    "    b=b+2\n",
    "    print(a,end=\" \")\n",
    "    "
   ]
  }
 ],
 "metadata": {
  "kernelspec": {
   "display_name": "Python 3 (ipykernel)",
   "language": "python",
   "name": "python3"
  },
  "language_info": {
   "codemirror_mode": {
    "name": "ipython",
    "version": 3
   },
   "file_extension": ".py",
   "mimetype": "text/x-python",
   "name": "python",
   "nbconvert_exporter": "python",
   "pygments_lexer": "ipython3",
   "version": "3.9.13"
  }
 },
 "nbformat": 4,
 "nbformat_minor": 5
}
