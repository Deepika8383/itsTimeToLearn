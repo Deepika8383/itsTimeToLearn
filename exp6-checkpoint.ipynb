{
 "cells": [
  {
   "cell_type": "markdown",
   "id": "7fd17f94",
   "metadata": {},
   "source": [
    "- Create a tuple and try to changing the value of any one element, also\n",
    "display the length of list"
   ]
  },
  {
   "cell_type": "code",
   "execution_count": 3,
   "id": "94362105",
   "metadata": {},
   "outputs": [
    {
     "name": "stdout",
     "output_type": "stream",
     "text": [
      "(7, 6, 7)\n"
     ]
    }
   ],
   "source": [
    "y=(1,6,7)\n",
    "x=list(y)\n",
    "x[0]=7\n",
    "y=tuple(x)\n",
    "print(y)"
   ]
  },
  {
   "cell_type": "markdown",
   "id": "54b8d313",
   "metadata": {},
   "source": [
    "- Create a tuple having single element and append two tuple"
   ]
  },
  {
   "cell_type": "code",
   "execution_count": 8,
   "id": "1122978a",
   "metadata": {},
   "outputs": [
    {
     "name": "stdout",
     "output_type": "stream",
     "text": [
      "(5, 1, 4)\n"
     ]
    }
   ],
   "source": [
    "y=(5,)\n",
    "y+=(1,4)\n",
    "print(y)"
   ]
  },
  {
   "cell_type": "markdown",
   "id": "107c325d",
   "metadata": {},
   "source": [
    "- Create a tuple and sort it"
   ]
  },
  {
   "cell_type": "code",
   "execution_count": 13,
   "id": "0d1909f8",
   "metadata": {},
   "outputs": [
    {
     "name": "stdout",
     "output_type": "stream",
     "text": [
      "(2, 4, 6)\n"
     ]
    }
   ],
   "source": [
    "y=(4,6,2)\n",
    "a=tuple(sorted(y))\n",
    "print(a)"
   ]
  },
  {
   "cell_type": "markdown",
   "id": "d34bc055",
   "metadata": {},
   "source": [
    "- Create a tuple and print the sum of all the element"
   ]
  },
  {
   "cell_type": "code",
   "execution_count": 21,
   "id": "ad011b4a",
   "metadata": {},
   "outputs": [
    {
     "name": "stdout",
     "output_type": "stream",
     "text": [
      "12\n"
     ]
    }
   ],
   "source": [
    "y=(4,6,2)\n",
    "x=list(y)\n",
    "sum=0\n",
    "for i in x:\n",
    "    sum=sum + i\n",
    "print(sum)"
   ]
  },
  {
   "cell_type": "markdown",
   "id": "37c31ac9",
   "metadata": {},
   "source": [
    "- Program to find maximum and minimum of tuple"
   ]
  },
  {
   "cell_type": "code",
   "execution_count": 23,
   "id": "a9c2daa2",
   "metadata": {},
   "outputs": [
    {
     "name": "stdout",
     "output_type": "stream",
     "text": [
      "9\n",
      "0\n"
     ]
    }
   ],
   "source": [
    "y=(4,6,2,9,1)\n",
    "x=list(y)\n",
    "max=0\n",
    "min=0\n",
    "for i in y:\n",
    "    if max<i:\n",
    "        max=i\n",
    "    elif min>i:\n",
    "        min=i\n",
    "print(max)\n",
    "print(min)"
   ]
  },
  {
   "cell_type": "markdown",
   "id": "2c2ff6f4",
   "metadata": {},
   "source": [
    "- Reverse a tuple"
   ]
  },
  {
   "cell_type": "code",
   "execution_count": 24,
   "id": "de0b1708",
   "metadata": {},
   "outputs": [
    {
     "name": "stdout",
     "output_type": "stream",
     "text": [
      "(1, 9, 2, 6, 4)\n"
     ]
    }
   ],
   "source": [
    "y=(4,6,2,9,1)\n",
    "tup=y[::-1]\n",
    "print(tup)"
   ]
  },
  {
   "cell_type": "code",
   "execution_count": null,
   "id": "be325d27",
   "metadata": {},
   "outputs": [],
   "source": []
  }
 ],
 "metadata": {
  "kernelspec": {
   "display_name": "Python 3 (ipykernel)",
   "language": "python",
   "name": "python3"
  },
  "language_info": {
   "codemirror_mode": {
    "name": "ipython",
    "version": 3
   },
   "file_extension": ".py",
   "mimetype": "text/x-python",
   "name": "python",
   "nbconvert_exporter": "python",
   "pygments_lexer": "ipython3",
   "version": "3.9.13"
  }
 },
 "nbformat": 4,
 "nbformat_minor": 5
}
