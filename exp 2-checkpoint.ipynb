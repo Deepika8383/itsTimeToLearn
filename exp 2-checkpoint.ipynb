{
 "cells": [
  {
   "cell_type": "markdown",
   "id": "601c9b6d",
   "metadata": {},
   "source": [
    "- First 5 natural no.s"
   ]
  },
  {
   "cell_type": "code",
   "execution_count": 1,
   "id": "450b7fb4",
   "metadata": {},
   "outputs": [
    {
     "name": "stdout",
     "output_type": "stream",
     "text": [
      "1\n",
      "2\n",
      "3\n",
      "4\n",
      "5\n"
     ]
    }
   ],
   "source": [
    "for i in range(1,6):\n",
    "    print(i)"
   ]
  },
  {
   "cell_type": "markdown",
   "id": "8a74fbd2",
   "metadata": {},
   "source": [
    "- First 5 natural no. in same row."
   ]
  },
  {
   "cell_type": "code",
   "execution_count": 4,
   "id": "e11ec08d",
   "metadata": {},
   "outputs": [
    {
     "name": "stdout",
     "output_type": "stream",
     "text": [
      "1 2 3 4 5 "
     ]
    }
   ],
   "source": [
    "for i in range(1, 6):\n",
    "    print(i, end=\" \")\n"
   ]
  },
  {
   "cell_type": "markdown",
   "id": "0d15c841",
   "metadata": {},
   "source": [
    "- Write a python function that accepts one no. and calculates its factorial."
   ]
  },
  {
   "cell_type": "code",
   "execution_count": 10,
   "id": "d8341967",
   "metadata": {},
   "outputs": [
    {
     "name": "stdout",
     "output_type": "stream",
     "text": [
      "enter a number5\n",
      "120\n"
     ]
    }
   ],
   "source": [
    "n=int(input('enter a number'))\n",
    "fac=1\n",
    "for i in range(1,(n+1)):\n",
    "    fac=fac*i\n",
    "print(fac)"
   ]
  },
  {
   "cell_type": "markdown",
   "id": "5a994385",
   "metadata": {},
   "source": [
    "- Write a program that prints the number 1 to 10\n",
    "using a for loop"
   ]
  },
  {
   "cell_type": "code",
   "execution_count": 12,
   "id": "bdc4ab73",
   "metadata": {},
   "outputs": [
    {
     "name": "stdout",
     "output_type": "stream",
     "text": [
      "1 2 3 4 5 6 7 8 9 10 "
     ]
    }
   ],
   "source": [
    "for i in range(1,11):\n",
    "    print(i, end=\" \")"
   ]
  },
  {
   "cell_type": "markdown",
   "id": "9d7ebf2a",
   "metadata": {},
   "source": [
    "- Write a program that prints the number 1 to 10 using while loop"
   ]
  },
  {
   "cell_type": "code",
   "execution_count": 17,
   "id": "e79f63b0",
   "metadata": {},
   "outputs": [
    {
     "name": "stdout",
     "output_type": "stream",
     "text": [
      "1 2 3 4 5 6 7 8 9 10 "
     ]
    }
   ],
   "source": [
    "i = 1\n",
    "while i <= 10:\n",
    "    print(i, end=\" \")\n",
    "    i += 1\n"
   ]
  },
  {
   "cell_type": "markdown",
   "id": "5ee504ae",
   "metadata": {},
   "source": [
    "- Count number of digits in a Number"
   ]
  },
  {
   "cell_type": "code",
   "execution_count": 3,
   "id": "19b5a9c9",
   "metadata": {},
   "outputs": [
    {
     "name": "stdout",
     "output_type": "stream",
     "text": [
      "5\n"
     ]
    }
   ],
   "source": [
    "n=54321\n",
    "count=0\n",
    "while n!=0:\n",
    "    n=n//10\n",
    "    count += 1\n",
    "print(count)"
   ]
  },
  {
   "cell_type": "markdown",
   "id": "4a118010",
   "metadata": {},
   "source": [
    "- Count number of digits in a Number. Print the digits of Number"
   ]
  },
  {
   "cell_type": "code",
   "execution_count": 13,
   "id": "83ae291d",
   "metadata": {},
   "outputs": [
    {
     "name": "stdout",
     "output_type": "stream",
     "text": [
      "1\n",
      "2\n",
      "3\n",
      "4\n",
      "5\n",
      "5 number of digit\n"
     ]
    }
   ],
   "source": [
    "n=54321\n",
    "count=0\n",
    "while n!=0:\n",
    "    d=n%10\n",
    "    n=n//10\n",
    "    print(d)\n",
    "    count += 1\n",
    "print(count, 'number of digit')"
   ]
  },
  {
   "cell_type": "markdown",
   "id": "f6cf20ff",
   "metadata": {},
   "source": [
    "- Print maximum of five numbers using a function."
   ]
  },
  {
   "cell_type": "code",
   "execution_count": 14,
   "id": "1baa6bb3",
   "metadata": {},
   "outputs": [
    {
     "name": "stdout",
     "output_type": "stream",
     "text": [
      "9\n"
     ]
    }
   ],
   "source": [
    "def find_max(numbers):\n",
    "    return max(numbers)\n",
    "\n",
    "nums = [3, 2, 9, 7, 5]\n",
    "print(find_max(nums)) \n"
   ]
  },
  {
   "cell_type": "markdown",
   "id": "480871d3",
   "metadata": {},
   "source": [
    "- anoyher way of this program"
   ]
  },
  {
   "cell_type": "code",
   "execution_count": 19,
   "id": "67e25c8f",
   "metadata": {},
   "outputs": [
    {
     "name": "stdout",
     "output_type": "stream",
     "text": [
      "9\n"
     ]
    }
   ],
   "source": [
    "def find_max(list):\n",
    "    max_value = list[0]\n",
    "    for num in list:\n",
    "        if num > max_value:\n",
    "            max_value = num\n",
    "    return max_value\n",
    "\n",
    "list = [3, 2, 9, 7, 5]\n",
    "print(find_max(list))\n"
   ]
  },
  {
   "cell_type": "code",
   "execution_count": 20,
   "id": "9c4d6575",
   "metadata": {},
   "outputs": [
    {
     "name": "stdout",
     "output_type": "stream",
     "text": [
      "9\n"
     ]
    }
   ],
   "source": [
    "list = [3, 2, 9, 7, 5]\n",
    "max_val=list[0]\n",
    "for num in list:\n",
    "    if num> max_val:\n",
    "        max_val = num\n",
    "print(max_val)"
   ]
  },
  {
   "cell_type": "markdown",
   "id": "988f3bde",
   "metadata": {},
   "source": [
    "- Print minimum of the five numbers, using a function."
   ]
  },
  {
   "cell_type": "code",
   "execution_count": 21,
   "id": "b5f458fb",
   "metadata": {},
   "outputs": [
    {
     "name": "stdout",
     "output_type": "stream",
     "text": [
      "2\n"
     ]
    }
   ],
   "source": [
    "def find_min(numbers):\n",
    "    return min(numbers)\n",
    "\n",
    "nums = [3, 2, 9, 7, 5]\n",
    "print(find_min(nums)) \n"
   ]
  },
  {
   "cell_type": "markdown",
   "id": "cada87da",
   "metadata": {},
   "source": [
    "- Print minimum of the five numbers, without using a function."
   ]
  },
  {
   "cell_type": "code",
   "execution_count": 22,
   "id": "94d81369",
   "metadata": {},
   "outputs": [
    {
     "name": "stdout",
     "output_type": "stream",
     "text": [
      "2\n"
     ]
    }
   ],
   "source": [
    "list = [3, 2, 9, 7, 5]\n",
    "min_val=list[0]\n",
    "for num in list:\n",
    "    if num< min_val:\n",
    "        min_val = num\n",
    "print(min_val)"
   ]
  },
  {
   "cell_type": "markdown",
   "id": "43e9d7f5",
   "metadata": {},
   "source": [
    "- Write a python program to find those numbers which are divisible by 7\n",
    "and multiple of 5 between 1500 and 2700(both included)"
   ]
  },
  {
   "cell_type": "code",
   "execution_count": 25,
   "id": "80cde311",
   "metadata": {},
   "outputs": [
    {
     "name": "stdout",
     "output_type": "stream",
     "text": [
      "1505 1540 1575 1610 1645 1680 1715 1750 1785 1820 1855 1890 1925 1960 1995 2030 2065 2100 2135 2170 2205 2240 2275 2310 2345 2380 2415 2450 2485 2520 2555 2590 2625 2660 2695 "
     ]
    }
   ],
   "source": [
    "for i in range(1500,2701):\n",
    "    if i%7==0 and i%5==0:\n",
    "        print(i, end=\" \")\n",
    "        "
   ]
  },
  {
   "cell_type": "markdown",
   "id": "a63b088e",
   "metadata": {},
   "source": [
    "- write a python program to convert celsius to fahrenheit and fahrenheit to\n",
    "celsius."
   ]
  },
  {
   "cell_type": "code",
   "execution_count": 26,
   "id": "1a8f0e24",
   "metadata": {},
   "outputs": [
    {
     "name": "stdout",
     "output_type": "stream",
     "text": [
      "77.0\n",
      "25.0\n"
     ]
    }
   ],
   "source": [
    "def convert_temperature(value,unit):\n",
    "    if unit=='C':\n",
    "        return (value * 9/5) + 32\n",
    "    elif unit == 'F':\n",
    "        return (value - 32) * 5/9\n",
    "\n",
    "print(convert_temperature(25,'C')) \n",
    "print(convert_temperature(77,'F')) \n"
   ]
  },
  {
   "cell_type": "code",
   "execution_count": 30,
   "id": "23506591",
   "metadata": {},
   "outputs": [
    {
     "name": "stdout",
     "output_type": "stream",
     "text": [
      "a\n",
      "b\n",
      "c\n",
      "d\n",
      "e\n"
     ]
    }
   ],
   "source": [
    "t=['a','b','c','d','e']\n",
    "for i in t:\n",
    "    print(i)"
   ]
  },
  {
   "cell_type": "markdown",
   "id": "61f78e17",
   "metadata": {},
   "source": [
    "- Write a python program that accept a word from the user and reverse it"
   ]
  },
  {
   "cell_type": "code",
   "execution_count": 31,
   "id": "68401a6a",
   "metadata": {},
   "outputs": [
    {
     "name": "stdout",
     "output_type": "stream",
     "text": [
      "Enter a word: deepika\n",
      "The reversed word is: akipeed\n"
     ]
    }
   ],
   "source": [
    "def reverse_word(word):\n",
    "    return word[::-1]\n",
    "\n",
    "word = input(\"Enter a word: \")\n",
    "print(\"The reversed word is:\", reverse_word(word))\n"
   ]
  },
  {
   "cell_type": "code",
   "execution_count": 32,
   "id": "dbe6fcd0",
   "metadata": {},
   "outputs": [
    {
     "name": "stdout",
     "output_type": "stream",
     "text": [
      "Enter a word: nitin\n",
      "The reversed word is: nitin\n"
     ]
    }
   ],
   "source": [
    "def reverse_word(word):\n",
    "    return ''.join(reversed(word))\n",
    "\n",
    "word = input(\"Enter a word: \")\n",
    "print(\"The reversed word is:\", reverse_word(word))\n",
    "#Alternatively, you can use python built-in function reversed and join to achieve the same"
   ]
  },
  {
   "cell_type": "markdown",
   "id": "2eb0d2bf",
   "metadata": {},
   "source": [
    "- write a python program that print all the number from 0 to 6 except 3 and\n",
    "6 , using continue statement"
   ]
  },
  {
   "cell_type": "code",
   "execution_count": 33,
   "id": "be60670a",
   "metadata": {},
   "outputs": [
    {
     "name": "stdout",
     "output_type": "stream",
     "text": [
      "0 1 2 4 5 "
     ]
    }
   ],
   "source": [
    "for i in range(6):\n",
    "    if i==3 or i==6:\n",
    "        continue\n",
    "    else:\n",
    "        print(i, end=\" \")"
   ]
  },
  {
   "cell_type": "markdown",
   "id": "1f840f1c",
   "metadata": {},
   "source": [
    "- Print the fibonacci series between 0 to 50"
   ]
  },
  {
   "cell_type": "code",
   "execution_count": 38,
   "id": "3a8e43e5",
   "metadata": {},
   "outputs": [
    {
     "name": "stdout",
     "output_type": "stream",
     "text": [
      "[0, 1, 1, 2, 3, 5, 8, 13, 21, 34]\n"
     ]
    }
   ],
   "source": [
    "def fibonacci_series(n):\n",
    "    a, b = 0, 1\n",
    "    series = [a]\n",
    "    while b < n:\n",
    "        series.append(b)\n",
    "        a, b = b, a + b\n",
    "    return series\n",
    "\n",
    "print(fibonacci_series(50))\n"
   ]
  },
  {
   "cell_type": "code",
   "execution_count": 35,
   "id": "4a7fcd43",
   "metadata": {},
   "outputs": [
    {
     "name": "stdout",
     "output_type": "stream",
     "text": [
      "[0, 1, 1, 2, 3, 5, 8, 13, 21, 34, 55]\n"
     ]
    }
   ],
   "source": [
    "def fibonacci_series(n):\n",
    "    series = [0, 1]\n",
    "    while series[-1] < n:\n",
    "        series.append(series[-1] + series[-2])#doubt\n",
    "    return series\n",
    "\n",
    "print(fibonacci_series(50))\n"
   ]
  },
  {
   "cell_type": "markdown",
   "id": "8a52e9ce",
   "metadata": {},
   "source": [
    "- write a python program to find number btw 100 to 400 where each digit of\n",
    "\n",
    "a number is an even number . the number obtained should be printed in a comma-\n",
    "seperated sequence"
   ]
  },
  {
   "cell_type": "code",
   "execution_count": 39,
   "id": "4419bdbc",
   "metadata": {},
   "outputs": [
    {
     "name": "stdout",
     "output_type": "stream",
     "text": [
      "102,104,106,108,110,112,114,116,118,120,122,124,126,128,130,132,134,136,138,140,142,144,146,148,150,152,154,156,158,160,162,164,166,168,170,172,174,176,178,180,182,184,186,188,190,192,194,196,198,200,202,204,206,208,210,212,214,216,218,220,222,224,226,228,230,232,234,236,238,240,242,244,246,248,250,252,254,256,258,260,262,264,266,268,270,272,274,276,278,280,282,284,286,288,290,292,294,296,298,300,302,304,306,308,310,312,314,316,318,320,322,324,326,328,330,332,334,336,338,340,342,344,346,348,350,352,354,356,358,360,362,364,366,368,370,372,374,376,378,380,382,384,386,388,390,392,394,396,398,"
     ]
    }
   ],
   "source": [
    "for i in range(101,400):\n",
    "    if i%2==0:\n",
    "        print(i, end=\",\")"
   ]
  },
  {
   "cell_type": "markdown",
   "id": "35029c3f",
   "metadata": {},
   "source": [
    "- write a python program to calculates a dogs age in human year\n",
    "(NOTE:for first two year dog age is 10.5 human year and is 4 times for so on years)"
   ]
  },
  {
   "cell_type": "code",
   "execution_count": 40,
   "id": "1bac6e1b",
   "metadata": {},
   "outputs": [
    {
     "name": "stdout",
     "output_type": "stream",
     "text": [
      "53\n"
     ]
    }
   ],
   "source": [
    "def dog_age_in_human_years(dog_age):\n",
    "    if dog_age <= 2:\n",
    "        human_age = dog_age * 10.5\n",
    "    else:\n",
    "        human_age = 21 + (dog_age - 2) * 4\n",
    "    return human_age\n",
    "\n",
    "print(dog_age_in_human_years(10))\n"
   ]
  },
  {
   "cell_type": "markdown",
   "id": "3d336154",
   "metadata": {},
   "source": [
    "- Write a python program to check whether a triangle is\n",
    "equilateral,isosceles or scalene"
   ]
  },
  {
   "cell_type": "code",
   "execution_count": 47,
   "id": "ed84495a",
   "metadata": {
    "scrolled": true
   },
   "outputs": [
    {
     "name": "stdout",
     "output_type": "stream",
     "text": [
      "isoceles\n"
     ]
    }
   ],
   "source": [
    "a =[1,2,2]\n",
    "if a[0]==a[1]==a[2]:\n",
    "    print('equilateral')\n",
    "elif a[0]==a[1] or a[1]==a[2] or a[2]==a[0]:\n",
    "    print('isoceles')\n",
    "else:\n",
    "    print('scalen')"
   ]
  },
  {
   "cell_type": "markdown",
   "id": "2ae07b5b",
   "metadata": {},
   "source": [
    "- Accept the input from user and calculate the sum of all the number\n",
    "between 1 and given number"
   ]
  },
  {
   "cell_type": "code",
   "execution_count": 1,
   "id": "e78de945",
   "metadata": {},
   "outputs": [
    {
     "name": "stdout",
     "output_type": "stream",
     "text": [
      "5\n",
      "15\n"
     ]
    }
   ],
   "source": [
    "n=int(input())\n",
    "sum=0\n",
    "i=1\n",
    "while i<=n:\n",
    "    sum+=i\n",
    "    i+=1\n",
    "print(sum)\n",
    "    "
   ]
  }
 ],
 "metadata": {
  "kernelspec": {
   "display_name": "Python 3 (ipykernel)",
   "language": "python",
   "name": "python3"
  },
  "language_info": {
   "codemirror_mode": {
    "name": "ipython",
    "version": 3
   },
   "file_extension": ".py",
   "mimetype": "text/x-python",
   "name": "python",
   "nbconvert_exporter": "python",
   "pygments_lexer": "ipython3",
   "version": "3.9.13"
  }
 },
 "nbformat": 4,
 "nbformat_minor": 5
}
