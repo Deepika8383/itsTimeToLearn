{
 "cells": [
  {
   "cell_type": "markdown",
   "id": "ffd602fb",
   "metadata": {},
   "source": [
    "- Write a python script to add a key to a dictionary"
   ]
  },
  {
   "cell_type": "code",
   "execution_count": 6,
   "id": "0e033f45",
   "metadata": {
    "scrolled": true
   },
   "outputs": [
    {
     "name": "stdout",
     "output_type": "stream",
     "text": [
      "{'name': 'harry', 'from': 'india', 'marks': [92, 95, 97], 'age': '26'}\n"
     ]
    }
   ],
   "source": [
    "dic={\"name\":\"harry\", \"from\":\"india\", \"marks\":[92,95,97]}\n",
    "dic['age']= \"26\"\n",
    "print(dic)"
   ]
  },
  {
   "cell_type": "markdown",
   "id": "46089716",
   "metadata": {},
   "source": [
    "- Write a python script to concatenate dictionaries to\n",
    "create a new one"
   ]
  },
  {
   "cell_type": "code",
   "execution_count": 8,
   "id": "b2b28b50",
   "metadata": {},
   "outputs": [
    {
     "name": "stdout",
     "output_type": "stream",
     "text": [
      "{'name': 'harry', 'from': 'india', 'marks': [92, 95, 97], 'ram': 'sita', 'krishna': 'radha'}\n"
     ]
    }
   ],
   "source": [
    "dic={\"name\":\"harry\", \"from\":\"india\", \"marks\":[92,95,97]}\n",
    "dic2={\"ram\":\"sita\",\"krishna\":\"radha\"}\n",
    "dic.update(dic2)\n",
    "print(dic)"
   ]
  },
  {
   "cell_type": "markdown",
   "id": "87e5f759",
   "metadata": {},
   "source": [
    "- Write a python script to check if a given key already\n",
    "exists in a dictionary"
   ]
  },
  {
   "cell_type": "code",
   "execution_count": 11,
   "id": "120f4bd4",
   "metadata": {},
   "outputs": [
    {
     "name": "stdout",
     "output_type": "stream",
     "text": [
      "name\n",
      "present\n"
     ]
    }
   ],
   "source": [
    "dic={'name': 'harry', 'from': 'india', 'marks': [92, 95, 97], 'ram': 'sita', 'krishna': 'radha'}\n",
    "key=input()\n",
    "if key in dic.keys():\n",
    "    print('present')\n",
    "else:\n",
    "    print('not present')"
   ]
  },
  {
   "cell_type": "markdown",
   "id": "475839f8",
   "metadata": {},
   "source": [
    "- Write a python script to print dictionary where the keys\n",
    "are numbers between 1 to 15 (both included) and the values are\n",
    "square of keys"
   ]
  },
  {
   "cell_type": "code",
   "execution_count": 14,
   "id": "2091d6c7",
   "metadata": {},
   "outputs": [
    {
     "name": "stdout",
     "output_type": "stream",
     "text": [
      "{1: 1, 2: 4, 3: 9, 4: 16, 5: 25, 6: 36, 7: 49, 8: 64, 9: 81, 10: 100, 11: 121, 12: 144, 13: 169, 14: 196, 15: 225}\n"
     ]
    }
   ],
   "source": [
    "d=dict()\n",
    "for i in range(1,16):\n",
    "    d[i]=i**2\n",
    "print(d)"
   ]
  }
 ],
 "metadata": {
  "kernelspec": {
   "display_name": "Python 3 (ipykernel)",
   "language": "python",
   "name": "python3"
  },
  "language_info": {
   "codemirror_mode": {
    "name": "ipython",
    "version": 3
   },
   "file_extension": ".py",
   "mimetype": "text/x-python",
   "name": "python",
   "nbconvert_exporter": "python",
   "pygments_lexer": "ipython3",
   "version": "3.9.13"
  }
 },
 "nbformat": 4,
 "nbformat_minor": 5
}
