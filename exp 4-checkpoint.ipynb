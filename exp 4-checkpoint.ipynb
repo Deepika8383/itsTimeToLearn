{
 "cells": [
  {
   "cell_type": "markdown",
   "id": "94530d02",
   "metadata": {},
   "source": [
    "- Function to find the max of three numbers"
   ]
  },
  {
   "cell_type": "code",
   "execution_count": 5,
   "id": "e90d7ab1",
   "metadata": {},
   "outputs": [
    {
     "name": "stdout",
     "output_type": "stream",
     "text": [
      "9 is max in all\n"
     ]
    }
   ],
   "source": [
    "def MaxThree(a,b,c):\n",
    "    if a>b:\n",
    "        if a>c:\n",
    "            print(a , 'is max in all')\n",
    "        else:\n",
    "            print(c)\n",
    "    elif b>c:\n",
    "        print(b ,'is max in all')\n",
    "    else:\n",
    "        print(c , 'is max in all')\n",
    "MaxThree(7,8,9)"
   ]
  },
  {
   "cell_type": "markdown",
   "id": "7a7cafb5",
   "metadata": {},
   "source": [
    "- Function to find the sum of all the numbers in a list"
   ]
  },
  {
   "cell_type": "code",
   "execution_count": 13,
   "id": "67c2a63c",
   "metadata": {},
   "outputs": [
    {
     "name": "stdout",
     "output_type": "stream",
     "text": [
      "28\n"
     ]
    }
   ],
   "source": [
    "def Sum(numbers):\n",
    "    sum=0\n",
    "    for i in numbers:\n",
    "        sum=sum+i\n",
    "    print(sum)\n",
    "numbers=[1,2,3,4,5,6,7]\n",
    "Sum(numbers)"
   ]
  },
  {
   "cell_type": "markdown",
   "id": "239830b7",
   "metadata": {},
   "source": [
    "- Function to find the sum of all the numbers in a list"
   ]
  },
  {
   "cell_type": "code",
   "execution_count": 17,
   "id": "c073f324",
   "metadata": {},
   "outputs": [
    {
     "name": "stdout",
     "output_type": "stream",
     "text": [
      "28\n"
     ]
    }
   ],
   "source": [
    "def Sum(numbers):\n",
    "    sum=0\n",
    "    for i in range(len(numbers)):\n",
    "        sum=sum+numbers[i]\n",
    "    print(sum)\n",
    "numbers=[1,2,3,4,5,6,7]\n",
    "Sum(numbers)"
   ]
  },
  {
   "cell_type": "markdown",
   "id": "40d3f85a",
   "metadata": {},
   "source": [
    "- Function to find the product of all the numbers in a list"
   ]
  },
  {
   "cell_type": "code",
   "execution_count": 1,
   "id": "61894e49",
   "metadata": {},
   "outputs": [
    {
     "name": "stdout",
     "output_type": "stream",
     "text": [
      "120\n"
     ]
    }
   ],
   "source": [
    "def Product(list):\n",
    "    prd=1\n",
    "    for i in range(len(list)):\n",
    "        prd=prd*list[i]\n",
    "    print(prd)\n",
    "list=[1,2,3,4,5]\n",
    "Product(list)"
   ]
  },
  {
   "cell_type": "markdown",
   "id": "186da782",
   "metadata": {},
   "source": [
    "- Function to reverse a string"
   ]
  },
  {
   "cell_type": "code",
   "execution_count": 7,
   "id": "cb06b07b",
   "metadata": {},
   "outputs": [
    {
     "data": {
      "text/plain": [
       "'dlrow olleh'"
      ]
     },
     "execution_count": 7,
     "metadata": {},
     "output_type": "execute_result"
    }
   ],
   "source": [
    "def Reverse(string):\n",
    "    return string[::-1]\n",
    "string=\"hello world\"\n",
    "Reverse(string)"
   ]
  },
  {
   "cell_type": "markdown",
   "id": "172c9e84",
   "metadata": {},
   "source": [
    "- Function to find the factorial of a non-negative number."
   ]
  },
  {
   "cell_type": "code",
   "execution_count": 8,
   "id": "1390bc95",
   "metadata": {},
   "outputs": [
    {
     "name": "stdout",
     "output_type": "stream",
     "text": [
      "120\n"
     ]
    }
   ],
   "source": [
    "def factorial(n):\n",
    "    fac=1\n",
    "    i=1\n",
    "    while i<=n:\n",
    "        fac=fac*i\n",
    "        i+=1\n",
    "    print(fac)\n",
    "factorial(5)"
   ]
  },
  {
   "cell_type": "markdown",
   "id": "209688a8",
   "metadata": {},
   "source": []
  },
  {
   "cell_type": "code",
   "execution_count": 9,
   "id": "fc3882a0",
   "metadata": {},
   "outputs": [
    {
     "data": {
      "text/plain": [
       "'dlrow olleh'"
      ]
     },
     "execution_count": 9,
     "metadata": {},
     "output_type": "execute_result"
    }
   ],
   "source": [
    "def reverse_string(string):\n",
    "    return \"\".join(reversed(string)) #using pyhthon funtion\n",
    "string=\"hello world\"\n",
    "reverse_string(string)"
   ]
  },
  {
   "cell_type": "markdown",
   "id": "f9f3972e",
   "metadata": {},
   "source": [
    "- Function to check whether a number is in a given range."
   ]
  },
  {
   "cell_type": "code",
   "execution_count": 10,
   "id": "0730dd86",
   "metadata": {},
   "outputs": [
    {
     "name": "stdout",
     "output_type": "stream",
     "text": [
      "True\n"
     ]
    }
   ],
   "source": [
    "def check_range(num, low, high):\n",
    "    return num in range(low, high+1)\n",
    "my_num = 5\n",
    "low = 3\n",
    "high = 8\n",
    "result = check_range(my_num, low, high)\n",
    "print(result) \n"
   ]
  },
  {
   "cell_type": "markdown",
   "id": "4e445489",
   "metadata": {},
   "source": [
    "- Function that takes a number as a parameter and check whether a number is Prime or not."
   ]
  },
  {
   "cell_type": "code",
   "execution_count": 23,
   "id": "4cd98077",
   "metadata": {},
   "outputs": [
    {
     "name": "stdout",
     "output_type": "stream",
     "text": [
      "4\n",
      "no prime\n"
     ]
    }
   ],
   "source": [
    "def Prime(n):\n",
    "    i=2\n",
    "    p=1\n",
    "    while i<n:\n",
    "        p=n%i\n",
    "        i+=1\n",
    "        if p==0:\n",
    "            print('no prime')\n",
    "            break\n",
    "    else:\n",
    "        print('prime')\n",
    "n=int(input())\n",
    "Prime(n)"
   ]
  },
  {
   "cell_type": "markdown",
   "id": "21f0a65e",
   "metadata": {},
   "source": [
    "- Function to check whether a number is Palindrome or not."
   ]
  },
  {
   "cell_type": "code",
   "execution_count": 24,
   "id": "541efcee",
   "metadata": {},
   "outputs": [
    {
     "name": "stdout",
     "output_type": "stream",
     "text": [
      "True\n"
     ]
    }
   ],
   "source": [
    "def check_palindrome(num):\n",
    "    return str(num) == str(num)[::-1]\n",
    "my_num = 121\n",
    "result = check_palindrome(my_num)\n",
    "print(result)  \n"
   ]
  },
  {
   "cell_type": "markdown",
   "id": "d67adca7",
   "metadata": {},
   "source": [
    "- Function to check whether a number is Perfect or not."
   ]
  },
  {
   "cell_type": "code",
   "execution_count": 3,
   "id": "44d20492",
   "metadata": {},
   "outputs": [
    {
     "name": "stdout",
     "output_type": "stream",
     "text": [
      "no perfect\n"
     ]
    }
   ],
   "source": [
    "def Perfect(n):\n",
    "    i=1\n",
    "    while i<=(n//2):\n",
    "        per=i*i\n",
    "        i+=1\n",
    "        if per==n:\n",
    "            print('perfect')\n",
    "            break\n",
    "    else:\n",
    "        print('no perfect')\n",
    "Perfect(5)  "
   ]
  },
  {
   "cell_type": "code",
   "execution_count": null,
   "id": "0838a50e",
   "metadata": {},
   "outputs": [],
   "source": []
  }
 ],
 "metadata": {
  "kernelspec": {
   "display_name": "Python 3 (ipykernel)",
   "language": "python",
   "name": "python3"
  },
  "language_info": {
   "codemirror_mode": {
    "name": "ipython",
    "version": 3
   },
   "file_extension": ".py",
   "mimetype": "text/x-python",
   "name": "python",
   "nbconvert_exporter": "python",
   "pygments_lexer": "ipython3",
   "version": "3.9.13"
  }
 },
 "nbformat": 4,
 "nbformat_minor": 5
}
