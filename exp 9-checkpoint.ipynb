{
 "cells": [
  {
   "cell_type": "markdown",
   "id": "470a7486",
   "metadata": {},
   "source": [
    "- Write a program that creates two arrays and performs\n",
    "a. Addition\n",
    "b. Multiplication\n",
    "c. Transpose"
   ]
  },
  {
   "cell_type": "code",
   "execution_count": 2,
   "id": "c7be1007",
   "metadata": {},
   "outputs": [
    {
     "name": "stdout",
     "output_type": "stream",
     "text": [
      "[ 6  8 11 13  7]\n",
      "[ 5 12 24 36 10]\n",
      "[[ 0 10 20 30 40 50 60 70]\n",
      " [ 1 11 21 31 41 51 61 71]\n",
      " [ 2 12 22 32 42 52 62 72]\n",
      " [ 3 13 23 33 43 53 63 73]\n",
      " [ 4 14 24 34 44 54 64 74]\n",
      " [ 5 15 25 35 45 55 65 75]\n",
      " [ 6 16 26 36 46 56 66 76]\n",
      " [ 7 17 27 37 47 57 67 77]\n",
      " [ 8 18 28 38 48 58 68 78]\n",
      " [ 9 19 29 39 49 59 69 79]]\n"
     ]
    }
   ],
   "source": [
    "import numpy as np\n",
    "\n",
    "arr = np.array([1, 2, 3, 4, 5])\n",
    "arr2= np.array([5, 6,8,9,2])\n",
    "arr3 = arr + arr2\n",
    "\n",
    "print(arr3)\n",
    "\n",
    "arr3 = arr*arr2\n",
    "\n",
    "print(arr3)\n",
    "\n",
    "arr = np.arange(80).reshape(8, 10)\n",
    "print(arr.T)\n"
   ]
  },
  {
   "cell_type": "markdown",
   "id": "05f0ec64",
   "metadata": {},
   "source": [
    "- Write a program to perform linear search in an array."
   ]
  },
  {
   "cell_type": "code",
   "execution_count": 9,
   "id": "906f0392",
   "metadata": {},
   "outputs": [
    {
     "name": "stdout",
     "output_type": "stream",
     "text": [
      "not found\n"
     ]
    }
   ],
   "source": [
    "arr = np.array([1,2,3,4,5,6,7,8,9])\n",
    "x=9\n",
    "for i in range(len(arr)):\n",
    "    if arr[i]==x:\n",
    "        print(i)\n",
    "        break\n",
    "    else:\n",
    "        print(\"not found\")\n",
    "        break"
   ]
  },
  {
   "cell_type": "markdown",
   "id": "93d06eaf",
   "metadata": {},
   "source": [
    "- Write a program to perform Binary search in an array."
   ]
  },
  {
   "cell_type": "code",
   "execution_count": 15,
   "id": "14ab5ce2",
   "metadata": {},
   "outputs": [
    {
     "name": "stdout",
     "output_type": "stream",
     "text": [
      "4\n"
     ]
    }
   ],
   "source": [
    "def binary_search(arr, n):  \n",
    "    low = 0  \n",
    "    high = len(list1) - 1  \n",
    "    mid = 0  \n",
    "  \n",
    "    while low <= high:    \n",
    "        mid = (high + low) // 2   \n",
    "        if arr[mid] < n:  \n",
    "            low = mid + 1     \n",
    "        elif arr[mid] > n:  \n",
    "            high = mid - 1   \n",
    "        else:  \n",
    "            return mid \n",
    "    return -1  \n",
    "arr = np.array ([12, 24, 32, 39, 45, 50, 54])  \n",
    "n = 45\n",
    "result= binary_search(arr,n)\n",
    "print(result)"
   ]
  },
  {
   "cell_type": "code",
   "execution_count": null,
   "id": "b19e1cfe",
   "metadata": {},
   "outputs": [],
   "source": []
  }
 ],
 "metadata": {
  "kernelspec": {
   "display_name": "Python 3 (ipykernel)",
   "language": "python",
   "name": "python3"
  },
  "language_info": {
   "codemirror_mode": {
    "name": "ipython",
    "version": 3
   },
   "file_extension": ".py",
   "mimetype": "text/x-python",
   "name": "python",
   "nbconvert_exporter": "python",
   "pygments_lexer": "ipython3",
   "version": "3.9.13"
  }
 },
 "nbformat": 4,
 "nbformat_minor": 5
}
